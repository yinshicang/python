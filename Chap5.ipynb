{
  "cells": [
    {
      "cell_type": "markdown",
      "metadata": {
        "id": "bolxLWIzUrYR"
      },
      "source": [
        "# 函式(數)"
      ]
    },
    {
      "cell_type": "markdown",
      "metadata": {
        "id": "FBHdJaDFUrYc"
      },
      "source": [
        "## 傳統的寫法"
      ]
    },
    {
      "cell_type": "code",
      "execution_count": null,
      "metadata": {
        "id": "urlwC2u7UrYf",
        "outputId": "2da7c1f1-b96b-4e59-a0ee-aa52f7080098"
      },
      "outputs": [
        {
          "name": "stdout",
          "output_type": "stream",
          "text": [
            "請輸入圓的半徑：10\n",
            "圓的面積為： 314.1592653589793\n"
          ]
        }
      ],
      "source": [
        "import math\n",
        "radius = eval(input(\"請輸入圓的半徑：\")) #input是string,eval可以計算\n",
        "print(\"圓的面積為：\", radius * radius * math.pi) #math.pi 涵式裡的3.14...."
      ]
    },
    {
      "cell_type": "markdown",
      "metadata": {
        "id": "eosu5wZqUrYj"
      },
      "source": [
        "## 面積計算函示"
      ]
    },
    {
      "cell_type": "code",
      "execution_count": null,
      "metadata": {
        "id": "dn18qIIdUrYk",
        "outputId": "e85c2cd4-0901-40cd-e668-a7bbdc03009c"
      },
      "outputs": [
        {
          "name": "stdout",
          "output_type": "stream",
          "text": [
            "314.1592653589793\n"
          ]
        }
      ],
      "source": [
        "import math\n",
        "def circle_area(radius):\n",
        "    area = radius * radius * math.pi\n",
        "    return area\n",
        "\n",
        "print(circle_area(10))"
      ]
    }
  ],
  "metadata": {
    "kernelspec": {
      "display_name": "Python 3",
      "language": "python",
      "name": "python3"
    },
    "language_info": {
      "codemirror_mode": {
        "name": "ipython",
        "version": 3
      },
      "file_extension": ".py",
      "mimetype": "text/x-python",
      "name": "python",
      "nbconvert_exporter": "python",
      "pygments_lexer": "ipython3",
      "version": "3.8.5"
    },
    "colab": {
      "name": "Chap5.ipynb",
      "provenance": [],
      "collapsed_sections": []
    }
  },
  "nbformat": 4,
  "nbformat_minor": 0
}