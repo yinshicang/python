{
  "nbformat": 4,
  "nbformat_minor": 0,
  "metadata": {
    "colab": {
      "name": "chap3-1.ipynb",
      "provenance": [],
      "collapsed_sections": []
    },
    "kernelspec": {
      "name": "python3",
      "display_name": "Python 3"
    },
    "language_info": {
      "name": "python"
    }
  },
  "cells": [
    {
      "cell_type": "markdown",
      "source": [
        "## Tuple (元組)\n",
        "tuple(元組)可視為不可改變的串列，tuple跟list很像，但是我們不能新增、刪除或更新tuple的元素。tuple的好處有：\n",
        "1. 佔用較少空間\n",
        "2. 可當作dictionary(字典)的鍵值\n",
        "3. 可當作函式引數"
      ],
      "metadata": {
        "id": "9jF9DYKZwf_g"
      }
    },
    {
      "cell_type": "code",
      "execution_count": null,
      "metadata": {
        "id": "otIgekH6pfNG",
        "colab": {
          "base_uri": "https://localhost:8080/"
        },
        "outputId": "f41fc419-33e3-4cf2-d299-6ca6fa2ff116"
      },
      "outputs": [
        {
          "output_type": "stream",
          "name": "stdout",
          "text": [
            "('python', 'js', 'SQL')\n",
            "('go', 'c#', 'vb')\n",
            "go\n"
          ]
        }
      ],
      "source": [
        "a_tuple=('python', 'js', 'SQL')\n",
        "print(a_tuple)\n",
        "b_list=['go', 'c#', 'vb']\n",
        "b_tuple=tuple(b_list) #讓b_tuple=b_list(轉換成tuple的list)\n",
        "print(b_tuple)\n",
        "print(b_tuple[0])\n"
      ]
    },
    {
      "cell_type": "markdown",
      "source": [
        "\n",
        "### 字典(dictionary - dict)為帶有鍵值(key)的串列(list)"
      ],
      "metadata": {
        "id": "LNWAdQ8MwmTB"
      }
    },
    {
      "cell_type": "code",
      "source": [
        "languages = {} #宣告一次就行\n",
        "a = {0:'python', 1:'JAVA',2:'SQL'}  #用位置\n",
        "print(a[0])\n",
        "print(a[1])\n",
        "print(a[2])\n",
        "print()\n",
        "b={\"age\":47, \"gender\":'M',\"name\":\"gh\"}#用索引值(鍵值)可以自訂\n",
        "print(b[\"age\"])\n",
        "print(b[\"name\"])\n",
        "print(b[\"gender\"])\n"
      ],
      "metadata": {
        "id": "NlNTeTTMwsX3",
        "outputId": "6f4672d5-e7d3-45ce-8209-dc9277483f20",
        "colab": {
          "base_uri": "https://localhost:8080/"
        }
      },
      "execution_count": null,
      "outputs": [
        {
          "output_type": "stream",
          "name": "stdout",
          "text": [
            "python\n",
            "JAVA\n",
            "SQL\n",
            "\n",
            "47\n",
            "gh\n",
            "M\n"
          ]
        }
      ]
    },
    {
      "cell_type": "code",
      "source": [
        "languages = {'name':'python', 'version':'3.7'} #索引值(鍵值)可以自訂\n",
        "print(languages['name'])\n",
        "print(languages['version'])\n",
        "print()\n",
        "print(languages)\n",
        "print(languages.keys()) #鍵值\n",
        "print(languages.values())#內容\n",
        "print(languages.items()) #鍵值+內容的組合有什麼\n",
        "print('name' in languages) #鍵值是否在裡面"
      ],
      "metadata": {
        "colab": {
          "base_uri": "https://localhost:8080/"
        },
        "id": "2OzydEtrx3OA",
        "outputId": "f5a9a644-5462-4ea4-ca9e-be644acb58cc"
      },
      "execution_count": null,
      "outputs": [
        {
          "output_type": "stream",
          "name": "stdout",
          "text": [
            "python\n",
            "3.7\n",
            "\n",
            "{'name': 'python', 'version': '3.7'}\n",
            "dict_keys(['name', 'version'])\n",
            "dict_values(['python', '3.7'])\n",
            "dict_items([('name', 'python'), ('version', '3.7')])\n",
            "True\n"
          ]
        }
      ]
    }
  ]
}