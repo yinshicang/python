{
  "nbformat": 4,
  "nbformat_minor": 0,
  "metadata": {
    "colab": {
      "name": "Chap3.ipynb",
      "provenance": [],
      "collapsed_sections": []
    },
    "kernelspec": {
      "name": "python3",
      "display_name": "Python 3"
    },
    "language_info": {
      "name": "python"
    }
  },
  "cells": [
    {
      "cell_type": "markdown",
      "source": [
        "# Python物件\n",
        "## List[串列] Tuple(元組) Dictionary{字典} Sets{集合}\n",
        "\n",
        "## List[串列]\n",
        "使用中括號[]包裹元素"
      ],
      "metadata": {
        "id": "FSJ8DBzKPGLd"
      }
    },
    {
      "cell_type": "code",
      "source": [
        "expenses = [1138, 101, 12, 300, 2049] #LIST固定用\n",
        "print(sum(expenses)) #總和"
      ],
      "metadata": {
        "colab": {
          "base_uri": "https://localhost:8080/"
        },
        "id": "WO8S6yWvPRGV",
        "outputId": "f0bba1af-0bec-42d4-eb93-d2584bd10f5d"
      },
      "execution_count": null,
      "outputs": [
        {
          "output_type": "stream",
          "name": "stdout",
          "text": [
            "3600\n"
          ]
        }
      ]
    },
    {
      "cell_type": "markdown",
      "source": [
        "### 索引"
      ],
      "metadata": {
        "id": "9Ku8RBOPPVRj"
      }
    },
    {
      "cell_type": "code",
      "source": [
        "expenses = [1138, 101, 12, 300, 2049] #[0,1,2,3,4]\n",
        "print(expenses[0]) #位置0,第一個\n",
        "print(expenses[1]) #位置1,第二個\n",
        "print(expenses[-1]) #位置-1,從後數來第一個\n",
        "print(expenses[-2]) #位置-2,從後數來第二個"
      ],
      "metadata": {
        "colab": {
          "base_uri": "https://localhost:8080/"
        },
        "id": "NeKJv0nnPXa7",
        "outputId": "d3c24d9e-5cac-4ca2-cb67-daf1b7943574"
      },
      "execution_count": null,
      "outputs": [
        {
          "output_type": "stream",
          "name": "stdout",
          "text": [
            "1138\n",
            "101\n",
            "2049\n",
            "300\n"
          ]
        }
      ]
    },
    {
      "cell_type": "code",
      "execution_count": null,
      "metadata": {
        "colab": {
          "base_uri": "https://localhost:8080/"
        },
        "id": "MrgmJH_xbEVr",
        "outputId": "5e857038-5e1e-4232-e4b5-0cd7b1e53a03"
      },
      "outputs": [
        {
          "output_type": "stream",
          "name": "stdout",
          "text": [
            "[]\n",
            "['python', 'javascript', 'c#']\n",
            "3\n",
            "c#\n"
          ]
        }
      ],
      "source": [
        "my_list0=[] #空值\n",
        "print (my_list0)\n",
        "my_list1=list() #空值\n",
        "my_list2=[\"python\",\"javascript\",\"c#\"]\n",
        "print(my_list2)\n",
        "print(len(my_list2)) #len 計算長度\n",
        "print(my_list2[2]) #印出位置2的資料"
      ]
    },
    {
      "cell_type": "markdown",
      "source": [
        "### 附加"
      ],
      "metadata": {
        "id": "Nchnm6bmRJBP"
      }
    },
    {
      "cell_type": "code",
      "source": [
        "my_list2 = ['python', 'javascript', 'C#']\n",
        "my_list2.append('java') #加置到最後面\n",
        "print(my_list2)"
      ],
      "metadata": {
        "colab": {
          "base_uri": "https://localhost:8080/"
        },
        "id": "tGJ2VIGTRLHK",
        "outputId": "28762259-3045-405f-dbfb-421b950fecee"
      },
      "execution_count": null,
      "outputs": [
        {
          "output_type": "stream",
          "name": "stdout",
          "text": [
            "['python', 'javascript', 'C#', 'java']\n"
          ]
        }
      ]
    },
    {
      "cell_type": "code",
      "source": [
        "my_list2 = ['python', 'javascript', 'C#']\n",
        "my_list2.insert(1,'java') #可選擇插入位置\n",
        "print(my_list2)"
      ],
      "metadata": {
        "colab": {
          "base_uri": "https://localhost:8080/"
        },
        "id": "SNsUcgamRNNH",
        "outputId": "cfd69224-9ea2-4f9b-b75d-6fdac12b3678"
      },
      "execution_count": null,
      "outputs": [
        {
          "output_type": "stream",
          "name": "stdout",
          "text": [
            "['python', 'java', 'javascript', 'C#']\n"
          ]
        }
      ]
    },
    {
      "cell_type": "markdown",
      "source": [
        "### 刪除"
      ],
      "metadata": {
        "id": "hijX2sNrRPOW"
      }
    },
    {
      "cell_type": "code",
      "source": [
        "my_list2 = ['python', 'javascript', 'C#']\n",
        "my_list2.remove('python') #移除指定元素\n",
        "print(my_list2)\n",
        "del my_list2[-1] #刪除指定位置的元素\n",
        "print(my_list2)\n",
        "my_list2.clear() #清除全部\n",
        "print(my_list2)"
      ],
      "metadata": {
        "colab": {
          "base_uri": "https://localhost:8080/"
        },
        "id": "S7Ku81gsRQ4Z",
        "outputId": "a99a283c-ba63-4d15-e4f6-ec0290f79e6d"
      },
      "execution_count": null,
      "outputs": [
        {
          "output_type": "stream",
          "name": "stdout",
          "text": [
            "['javascript', 'C#']\n",
            "['javascript']\n",
            "[]\n"
          ]
        }
      ]
    },
    {
      "cell_type": "code",
      "source": [
        "a=[1,2]\n",
        "print(a*5)"
      ],
      "metadata": {
        "id": "IEyXb6vKUHe_",
        "outputId": "81d15adc-9081-43dc-bf4f-f1ef12b35eb5",
        "colab": {
          "base_uri": "https://localhost:8080/"
        }
      },
      "execution_count": null,
      "outputs": [
        {
          "output_type": "stream",
          "name": "stdout",
          "text": [
            "[1, 2, 1, 2, 1, 2, 1, 2, 1, 2]\n"
          ]
        }
      ]
    },
    {
      "cell_type": "markdown",
      "source": [
        "### list取值"
      ],
      "metadata": {
        "id": "ieB7kb4SRXi7"
      }
    },
    {
      "cell_type": "code",
      "source": [
        "a=[1,2,3,4,5,6,7,8,9]\n",
        "b=a[0:3] #範圍取值，0,1,2不包含3\n",
        "print(b)\n",
        "c=a[0:9:2] #間隔2取值\n",
        "print(c)\n",
        "d = a[0: ]\n",
        "print(d)\n",
        "e = a[ :9]\n",
        "print(e)\n",
        "f = a[:] #取全部值\n",
        "print(f)"
      ],
      "metadata": {
        "id": "_-_sxFcvRZZ_"
      },
      "execution_count": null,
      "outputs": []
    },
    {
      "cell_type": "code",
      "source": [
        "a=[1,2,3,4,5,6,7,8,9]\n",
        "del a[7:9] #刪除某範圍值, 7, 8\n",
        "print(a)\n",
        "print(min(a)) #最小值\n",
        "print(max(a)) #最大值\n",
        "print(a.index(1)) #找出1所在的第一個索引值\n",
        "b=[1,0,0,1,1,1]\n",
        "print(b.count(1)) #1出現的次數\n",
        "a.reverse() #串列反轉\n",
        "print(a)\n",
        "a.sort() #串列由小到大排序,a的值會被改變\n",
        "print(a)"
      ],
      "metadata": {
        "id": "B3rOeW-6RcE-"
      },
      "execution_count": null,
      "outputs": []
    },
    {
      "cell_type": "code",
      "source": [
        "expenses = [1138, 101, 12, 300, 2049]\n",
        "s=sorted(expenses) #expenses的值不會變\n",
        "print(s, expenses)"
      ],
      "metadata": {
        "id": "RiELNiQbRepD"
      },
      "execution_count": null,
      "outputs": []
    },
    {
      "cell_type": "markdown",
      "source": [
        "## list的長度"
      ],
      "metadata": {
        "id": "WNBl5QgyPhyM"
      }
    },
    {
      "cell_type": "code",
      "source": [
        "my_list2=[\"python\",\"javascript\",\"c#\"]\n",
        "my_list2.append(\"java\") #加入到最後面\n",
        "print(my_list2)\n",
        "my_list2.remove(\"java\") #移除指定的\n",
        "print(my_list2)\n",
        "my_list2.insert(0,\"java\") #插入到指定位置\n",
        "print(my_list2)\n",
        "my_list2.clear() #清除所有物件\n",
        "print(my_list2)"
      ],
      "metadata": {
        "colab": {
          "base_uri": "https://localhost:8080/"
        },
        "id": "ia9s8L6ZePIG",
        "outputId": "d1e0991d-854e-49fe-f921-fe4542544f8e"
      },
      "execution_count": null,
      "outputs": [
        {
          "output_type": "stream",
          "name": "stdout",
          "text": [
            "['python', 'javascript', 'c#', 'java']\n",
            "['python', 'javascript', 'c#']\n",
            "['java', 'python', 'javascript', 'c#']\n",
            "[]\n"
          ]
        }
      ]
    },
    {
      "cell_type": "code",
      "source": [
        "a=[1,2,3]\n",
        "b=[4,5,6]\n",
        "c=a+b\n",
        "print(c) #直接加在後面\n",
        "d=a*2 #兩遍\n",
        "print(d)"
      ],
      "metadata": {
        "colab": {
          "base_uri": "https://localhost:8080/"
        },
        "id": "z9Rbz4EihUC2",
        "outputId": "b8e8c43e-10a6-4045-818c-f84023345985"
      },
      "execution_count": null,
      "outputs": [
        {
          "output_type": "stream",
          "name": "stdout",
          "text": [
            "[1, 2, 3, 4, 5, 6]\n",
            "[1, 2, 3, 1, 2, 3]\n"
          ]
        }
      ]
    }
  ]
}